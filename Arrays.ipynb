{
 "cells": [
  {
   "cell_type": "code",
   "execution_count": 8,
   "metadata": {},
   "outputs": [],
   "source": [
    "#Just playing with arrays\n",
    "import numpy"
   ]
  },
  {
   "cell_type": "code",
   "execution_count": 23,
   "metadata": {},
   "outputs": [
    {
     "data": {
      "text/plain": [
       "array([[[ 0,  2],\n",
       "        [ 4,  6]],\n",
       "\n",
       "       [[ 4,  6],\n",
       "        [ 8, 10]]])"
      ]
     },
     "execution_count": 23,
     "metadata": {},
     "output_type": "execute_result"
    }
   ],
   "source": [
    "A = numpy.arange(8).reshape(2, 2, 2)\n",
    "B = numpy.arange(4).reshape(2, 2)\n",
    "A+B"
   ]
  },
  {
   "cell_type": "markdown",
   "metadata": {},
   "source": [
    "#Performing pythagorean theorem where the parameters are a and b, all three lengths are outputted"
   ]
  },
  {
   "cell_type": "code",
   "execution_count": 5,
   "metadata": {},
   "outputs": [
    {
     "ename": "NameError",
     "evalue": "name 'pythagorean_triple' is not defined",
     "output_type": "error",
     "traceback": [
      "\u001b[1;31m---------------------------------------------------------------------------\u001b[0m",
      "\u001b[1;31mNameError\u001b[0m                                 Traceback (most recent call last)",
      "\u001b[1;32m<ipython-input-5-32ea8475ec76>\u001b[0m in \u001b[0;36m<module>\u001b[1;34m\u001b[0m\n\u001b[0;32m      8\u001b[0m \u001b[1;33m\u001b[0m\u001b[0m\n\u001b[0;32m      9\u001b[0m     \u001b[1;32mreturn\u001b[0m\u001b[1;33m(\u001b[0m\u001b[0ma\u001b[0m\u001b[1;33m,\u001b[0m \u001b[0mb\u001b[0m\u001b[1;33m,\u001b[0m \u001b[0mc\u001b[0m\u001b[1;33m)\u001b[0m\u001b[1;33m\u001b[0m\u001b[1;33m\u001b[0m\u001b[0m\n\u001b[1;32m---> 10\u001b[1;33m \u001b[0mpythagorean_triple\u001b[0m\u001b[1;33m(\u001b[0m\u001b[1;36m3.\u001b[0m\u001b[1;33m,\u001b[0m \u001b[1;36m4.\u001b[0m\u001b[1;33m)\u001b[0m\u001b[1;33m\u001b[0m\u001b[1;33m\u001b[0m\u001b[0m\n\u001b[0m",
      "\u001b[1;31mNameError\u001b[0m: name 'pythagorean_triple' is not defined"
     ]
    }
   ],
   "source": [
    "import math\n",
    "def pythagorean(a, b):\n",
    "\n",
    "    if type(a) != float or type(b) != float:\n",
    "        return(None)\n",
    "    \n",
    "    c= math.sqrt(a**2 + b**2)\n",
    "    \n",
    "    return(a, b, c)\n",
    "pythagorean_triple(3., 4.)"
   ]
  },
  {
   "cell_type": "markdown",
   "metadata": {},
   "source": [
    "#User gets to print a string for their desired number of repetitions"
   ]
  },
  {
   "cell_type": "code",
   "execution_count": 6,
   "metadata": {},
   "outputs": [],
   "source": [
    "def repeat():\n",
    "\n",
    "    repeat = input(\"Input loop string: \")\n",
    "\n",
    "    number_string = input(\"Input number of repetitions: \")\n",
    "\n",
    "    if not number_string.isnumeric():\n",
    "        return(None)\n",
    "\n",
    "    number = int(number_string)\n",
    "\n",
    "    for i in range(number):\n",
    "        print(repeat)"
   ]
  },
  {
   "cell_type": "markdown",
   "metadata": {},
   "source": [
    "#Parameters are types (func, float, float, int)\n",
    "#The first float is interval for the x coordinate\n",
    "#The second float is the interval for the y coordinate\n",
    "#The integer is the shape and the number of arrays\n",
    "\n",
    "#The first array is evaluates the multiplication of the x and y coordinates at each point\n",
    "#The second array returned is with x-coordinates evenly spaced\n",
    "#The third array returned is with y-coordinates evenly spaced"
   ]
  },
  {
   "cell_type": "code",
   "execution_count": 9,
   "metadata": {},
   "outputs": [
    {
     "name": "stdout",
     "output_type": "stream",
     "text": [
      "[ 0.  5. 10.]\n"
     ]
    },
    {
     "data": {
      "text/plain": [
       "(array([[  0.,   0.,   0.],\n",
       "        [  0.,  25.,  50.],\n",
       "        [  0.,  50., 100.]]),\n",
       " array([[ 0.,  5., 10.],\n",
       "        [ 0.,  5., 10.],\n",
       "        [ 0.,  5., 10.]]),\n",
       " array([[ 0.,  0.,  0.],\n",
       "        [ 5.,  5.,  5.],\n",
       "        [10., 10., 10.]]))"
      ]
     },
     "execution_count": 9,
     "metadata": {},
     "output_type": "execute_result"
    }
   ],
   "source": [
    "\n",
    "def func(x, y):\n",
    "    return(x*y)\n",
    "\n",
    "def project_to_grid(func, xlim, ylim, N):\n",
    "\n",
    "    if type(xlim) != float or type(ylim) != float or type(N) != int:\n",
    "        return(None)\n",
    "    \n",
    "    if xlim <= 0. or ylim <= 0. or N < 1: \n",
    "            return (None)\n",
    "   \n",
    "    xvec = numpy.linspace(0, xlim, N)\n",
    "    yvec = numpy.linspace(0, ylim, N)\n",
    "    print(xvec)\n",
    "    x = numpy.empty((N, N))\n",
    "    y = numpy.empty((N, N))\n",
    "    \n",
    "    for i in range(N):\n",
    "        x[i,:] = xvec\n",
    "        y[:, i] = yvec\n",
    "    \n",
    "    f = func(x, y)\n",
    "    return (f, x, y)\n",
    "project_to_grid(func, 10., 10., 3)"
   ]
  }
 ],
 "metadata": {
  "kernelspec": {
   "display_name": "Python 3",
   "language": "python",
   "name": "python3"
  },
  "language_info": {
   "codemirror_mode": {
    "name": "ipython",
    "version": 3
   },
   "file_extension": ".py",
   "mimetype": "text/x-python",
   "name": "python",
   "nbconvert_exporter": "python",
   "pygments_lexer": "ipython3",
   "version": "3.7.6"
  }
 },
 "nbformat": 4,
 "nbformat_minor": 2
}
